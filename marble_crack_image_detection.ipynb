{
  "metadata": {
    "kernelspec": {
      "language": "python",
      "display_name": "Python 3",
      "name": "python3"
    },
    "language_info": {
      "name": "python",
      "version": "3.7.9",
      "mimetype": "text/x-python",
      "codemirror_mode": {
        "name": "ipython",
        "version": 3
      },
      "pygments_lexer": "ipython3",
      "nbconvert_exporter": "python",
      "file_extension": ".py"
    },
    "kaggle": {
      "accelerator": "gpu",
      "dataSources": [
        {
          "sourceId": 792851,
          "sourceType": "datasetVersion",
          "datasetId": 414522
        },
        {
          "sourceId": 10976567,
          "sourceType": "datasetVersion",
          "datasetId": 6830309
        }
      ],
      "dockerImageVersionId": 30056,
      "isInternetEnabled": true,
      "language": "python",
      "sourceType": "notebook",
      "isGpuEnabled": true
    },
    "colab": {
      "provenance": [],
      "include_colab_link": true
    }
  },
  "nbformat_minor": 0,
  "nbformat": 4,
  "cells": [
    {
      "cell_type": "markdown",
      "metadata": {
        "id": "view-in-github",
        "colab_type": "text"
      },
      "source": [
        "<a href=\"https://colab.research.google.com/github/kanishkbehl/MARBLE-CRACK-IMAGE-DETECTION/blob/main/marble_crack_image_detection.ipynb\" target=\"_parent\"><img src=\"https://colab.research.google.com/assets/colab-badge.svg\" alt=\"Open In Colab\"/></a>"
      ]
    },
    {
      "cell_type": "markdown",
      "source": [
        "# Task for Today  \n",
        "\n",
        "***\n",
        "\n",
        "# **Marble Crack Image Detection**  \n",
        "\n",
        "Given *images of marble surfaces*, let's try to detect **cracks** in the marble.\n",
        "\n",
        "We will use a TensorFlow CNN to make our predictions."
      ],
      "metadata": {
        "id": "FFkz0Y9hm8JC"
      }
    },
    {
      "cell_type": "markdown",
      "source": [
        "## **Import Libraries**"
      ],
      "metadata": {
        "id": "nmUPgHHWm8JE"
      }
    },
    {
      "cell_type": "code",
      "source": [
        "import numpy as np\n",
        "import pandas as pd\n",
        "\n",
        "import matplotlib.pyplot as plt\n",
        "import seaborn as sns\n",
        "import plotly.express as px\n",
        "\n",
        "from pathlib import Path\n",
        "from sklearn.model_selection import train_test_split\n",
        "\n",
        "import tensorflow as tf\n",
        "\n",
        "from sklearn.metrics import confusion_matrix, classification_report"
      ],
      "metadata": {
        "trusted": true,
        "execution": {
          "iopub.status.busy": "2025-03-10T05:21:35.935050Z",
          "iopub.execute_input": "2025-03-10T05:21:35.935357Z",
          "iopub.status.idle": "2025-03-10T05:21:35.939625Z",
          "shell.execute_reply.started": "2025-03-10T05:21:35.935334Z",
          "shell.execute_reply": "2025-03-10T05:21:35.938903Z"
        },
        "id": "mGVEqMhTm8JF"
      },
      "outputs": [],
      "execution_count": null
    },
    {
      "cell_type": "code",
      "source": [
        "positive_dir = Path('../input/surface-crack-detection/Positive')\n",
        "negative_dir = Path('../input/surface-crack-detection/Negative')"
      ],
      "metadata": {
        "trusted": true,
        "execution": {
          "iopub.status.busy": "2025-03-10T05:21:35.941043Z",
          "iopub.execute_input": "2025-03-10T05:21:35.941305Z",
          "iopub.status.idle": "2025-03-10T05:21:35.954112Z",
          "shell.execute_reply.started": "2025-03-10T05:21:35.941282Z",
          "shell.execute_reply": "2025-03-10T05:21:35.953465Z"
        },
        "id": "i2ARLQQim8JF"
      },
      "outputs": [],
      "execution_count": null
    },
    {
      "cell_type": "markdown",
      "source": [
        "#**Creating Data Frames**"
      ],
      "metadata": {
        "id": "4z_6h1j1m8JG"
      }
    },
    {
      "cell_type": "code",
      "source": [
        "def generate_df(image_dir, label):\n",
        "    filepaths = pd.Series(list(image_dir.glob(r'*.jpg')), name='Filepath').astype(str)\n",
        "    labels = pd.Series(label, name='Label', index=filepaths.index)\n",
        "    df = pd.concat([filepaths, labels], axis=1)\n",
        "    return df"
      ],
      "metadata": {
        "trusted": true,
        "execution": {
          "iopub.status.busy": "2025-03-10T05:21:35.955194Z",
          "iopub.execute_input": "2025-03-10T05:21:35.955518Z",
          "iopub.status.idle": "2025-03-10T05:21:35.967992Z",
          "shell.execute_reply.started": "2025-03-10T05:21:35.955483Z",
          "shell.execute_reply": "2025-03-10T05:21:35.967172Z"
        },
        "id": "kgH9szaKm8JG"
      },
      "outputs": [],
      "execution_count": null
    },
    {
      "cell_type": "code",
      "source": [
        "positive_df = generate_df(positive_dir, label=\"POSITIVE\")\n",
        "negative_df = generate_df(negative_dir, label=\"NEGATIVE\")\n",
        "\n",
        "all_df = pd.concat([positive_df, negative_df], axis=0).sample(frac=1.0, random_state=1).reset_index(drop=True)\n",
        "all_df"
      ],
      "metadata": {
        "trusted": true,
        "execution": {
          "iopub.status.busy": "2025-03-10T05:21:35.969938Z",
          "iopub.execute_input": "2025-03-10T05:21:35.970167Z",
          "iopub.status.idle": "2025-03-10T05:21:36.354793Z",
          "shell.execute_reply.started": "2025-03-10T05:21:35.970145Z",
          "shell.execute_reply": "2025-03-10T05:21:36.354043Z"
        },
        "id": "54zmb7V1m8JG",
        "outputId": "1ae1ec38-844c-4f41-fb3a-bf8d735ebe02"
      },
      "outputs": [
        {
          "execution_count": 46,
          "output_type": "execute_result",
          "data": {
            "text/plain": "                                                Filepath     Label\n0      ../input/surface-crack-detection/Positive/0574...  POSITIVE\n1      ../input/surface-crack-detection/Positive/1870...  POSITIVE\n2      ../input/surface-crack-detection/Positive/0967...  POSITIVE\n3      ../input/surface-crack-detection/Negative/0791...  NEGATIVE\n4      ../input/surface-crack-detection/Positive/1400...  POSITIVE\n...                                                  ...       ...\n39995  ../input/surface-crack-detection/Positive/0854...  POSITIVE\n39996  ../input/surface-crack-detection/Negative/1944...  NEGATIVE\n39997  ../input/surface-crack-detection/Positive/0977...  POSITIVE\n39998  ../input/surface-crack-detection/Positive/1504...  POSITIVE\n39999  ../input/surface-crack-detection/Negative/1099...  NEGATIVE\n\n[40000 rows x 2 columns]",
            "text/html": "<div>\n<style scoped>\n    .dataframe tbody tr th:only-of-type {\n        vertical-align: middle;\n    }\n\n    .dataframe tbody tr th {\n        vertical-align: top;\n    }\n\n    .dataframe thead th {\n        text-align: right;\n    }\n</style>\n<table border=\"1\" class=\"dataframe\">\n  <thead>\n    <tr style=\"text-align: right;\">\n      <th></th>\n      <th>Filepath</th>\n      <th>Label</th>\n    </tr>\n  </thead>\n  <tbody>\n    <tr>\n      <th>0</th>\n      <td>../input/surface-crack-detection/Positive/0574...</td>\n      <td>POSITIVE</td>\n    </tr>\n    <tr>\n      <th>1</th>\n      <td>../input/surface-crack-detection/Positive/1870...</td>\n      <td>POSITIVE</td>\n    </tr>\n    <tr>\n      <th>2</th>\n      <td>../input/surface-crack-detection/Positive/0967...</td>\n      <td>POSITIVE</td>\n    </tr>\n    <tr>\n      <th>3</th>\n      <td>../input/surface-crack-detection/Negative/0791...</td>\n      <td>NEGATIVE</td>\n    </tr>\n    <tr>\n      <th>4</th>\n      <td>../input/surface-crack-detection/Positive/1400...</td>\n      <td>POSITIVE</td>\n    </tr>\n    <tr>\n      <th>...</th>\n      <td>...</td>\n      <td>...</td>\n    </tr>\n    <tr>\n      <th>39995</th>\n      <td>../input/surface-crack-detection/Positive/0854...</td>\n      <td>POSITIVE</td>\n    </tr>\n    <tr>\n      <th>39996</th>\n      <td>../input/surface-crack-detection/Negative/1944...</td>\n      <td>NEGATIVE</td>\n    </tr>\n    <tr>\n      <th>39997</th>\n      <td>../input/surface-crack-detection/Positive/0977...</td>\n      <td>POSITIVE</td>\n    </tr>\n    <tr>\n      <th>39998</th>\n      <td>../input/surface-crack-detection/Positive/1504...</td>\n      <td>POSITIVE</td>\n    </tr>\n    <tr>\n      <th>39999</th>\n      <td>../input/surface-crack-detection/Negative/1099...</td>\n      <td>NEGATIVE</td>\n    </tr>\n  </tbody>\n</table>\n<p>40000 rows × 2 columns</p>\n</div>"
          },
          "metadata": {}
        }
      ],
      "execution_count": null
    },
    {
      "cell_type": "code",
      "source": [
        "train_df, test_df = train_test_split(\n",
        "    all_df.sample(6000, random_state=1),\n",
        "    train_size=0.7,\n",
        "    shuffle=True,\n",
        "    random_state=1\n",
        ")"
      ],
      "metadata": {
        "trusted": true,
        "execution": {
          "iopub.status.busy": "2025-03-10T05:21:36.356665Z",
          "iopub.execute_input": "2025-03-10T05:21:36.356886Z",
          "iopub.status.idle": "2025-03-10T05:21:36.363243Z",
          "shell.execute_reply.started": "2025-03-10T05:21:36.356864Z",
          "shell.execute_reply": "2025-03-10T05:21:36.362617Z"
        },
        "id": "VLz_EJ_4m8JH"
      },
      "outputs": [],
      "execution_count": null
    },
    {
      "cell_type": "markdown",
      "source": [
        "## **Loading Image Data**"
      ],
      "metadata": {
        "id": "0nA3ZxBVm8JH"
      }
    },
    {
      "cell_type": "code",
      "source": [
        "train_gen = tf.keras.preprocessing.image.ImageDataGenerator(\n",
        "    rescale=1./255,\n",
        "    validation_split=0.2\n",
        ")\n",
        "\n"
      ],
      "metadata": {
        "trusted": true,
        "execution": {
          "iopub.status.busy": "2025-03-10T05:21:36.364233Z",
          "iopub.execute_input": "2025-03-10T05:21:36.364458Z",
          "iopub.status.idle": "2025-03-10T05:21:36.372966Z",
          "shell.execute_reply.started": "2025-03-10T05:21:36.364436Z",
          "shell.execute_reply": "2025-03-10T05:21:36.372439Z"
        },
        "id": "IJKKBe5Ym8JH"
      },
      "outputs": [],
      "execution_count": null
    },
    {
      "cell_type": "code",
      "source": [
        "import pandas as pd\n",
        "\n",
        "# Create a DataFrame for your single test image\n",
        "test_df = pd.DataFrame({\n",
        "    \"Filepath\": [\"/kaggle/input/test-image-marble/tiles.png\"],  # Update with your actual path\n",
        "    \"Label\": [\"unknown\"]  # Dummy label (not used in prediction)\n",
        "})"
      ],
      "metadata": {
        "trusted": true,
        "execution": {
          "iopub.status.busy": "2025-03-10T05:21:36.373820Z",
          "iopub.execute_input": "2025-03-10T05:21:36.374032Z",
          "iopub.status.idle": "2025-03-10T05:21:36.383606Z",
          "shell.execute_reply.started": "2025-03-10T05:21:36.374011Z",
          "shell.execute_reply": "2025-03-10T05:21:36.382993Z"
        },
        "id": "BwvetG6Pm8JH"
      },
      "outputs": [],
      "execution_count": null
    },
    {
      "cell_type": "code",
      "source": [
        "train_data = train_gen.flow_from_dataframe(\n",
        "    train_df,\n",
        "    x_col='Filepath',\n",
        "    y_col='Label',\n",
        "    target_size=(120, 120),\n",
        "    color_mode='rgb',\n",
        "    class_mode='binary',\n",
        "    batch_size=32,\n",
        "    shuffle=True,\n",
        "    seed=42,\n",
        "    subset='training'\n",
        ")\n",
        "\n",
        "val_data = train_gen.flow_from_dataframe(\n",
        "    train_df,\n",
        "    x_col='Filepath',\n",
        "    y_col='Label',\n",
        "    target_size=(120, 120),\n",
        "    color_mode='rgb',\n",
        "    class_mode='binary',\n",
        "    batch_size=32,\n",
        "    shuffle=True,\n",
        "    seed=42,\n",
        "    subset='validation'\n",
        ")\n",
        "\n",
        "test_data = train_gen.flow_from_dataframe(\n",
        "    dataframe=test_df,\n",
        "    x_col='Filepath',\n",
        "    y_col='Label',\n",
        "    target_size=(120, 120),\n",
        "    color_mode='rgb',\n",
        "    class_mode= None,\n",
        "    batch_size=1,\n",
        "    shuffle=False,\n",
        ")"
      ],
      "metadata": {
        "trusted": true,
        "execution": {
          "iopub.status.busy": "2025-03-10T05:21:36.384487Z",
          "iopub.execute_input": "2025-03-10T05:21:36.384706Z",
          "iopub.status.idle": "2025-03-10T05:21:38.441222Z",
          "shell.execute_reply.started": "2025-03-10T05:21:36.384681Z",
          "shell.execute_reply": "2025-03-10T05:21:38.440381Z"
        },
        "id": "N3VxAQaCm8JI",
        "outputId": "5e95185a-ab97-4d71-d10b-cde54e6f1bca"
      },
      "outputs": [
        {
          "name": "stdout",
          "text": "Found 3360 validated image filenames belonging to 2 classes.\nFound 840 validated image filenames belonging to 2 classes.\nFound 1 validated image filenames.\n",
          "output_type": "stream"
        }
      ],
      "execution_count": null
    },
    {
      "cell_type": "markdown",
      "source": [
        "# **Training**"
      ],
      "metadata": {
        "id": "pfe38SLem8JI"
      }
    },
    {
      "cell_type": "code",
      "source": [
        "inputs = tf.keras.Input(shape=(120, 120, 3))\n",
        "x = tf.keras.layers.Conv2D(filters=16, kernel_size=(3, 3), activation='relu')(inputs)\n",
        "x = tf.keras.layers.MaxPool2D(pool_size=(2, 2))(x)\n",
        "x = tf.keras.layers.Conv2D(filters=32, kernel_size=(3, 3), activation='relu')(x)\n",
        "x = tf.keras.layers.MaxPool2D(pool_size=(2, 2))(x)\n",
        "x = tf.keras.layers.GlobalAveragePooling2D()(x)\n",
        "outputs = tf.keras.layers.Dense(1, activation='sigmoid')(x)\n",
        "\n",
        "model = tf.keras.Model(inputs=inputs, outputs=outputs)\n",
        "\n",
        "model.compile(\n",
        "    optimizer='adam',\n",
        "    loss='binary_crossentropy',\n",
        "    metrics=['accuracy']\n",
        ")\n",
        "\n",
        "print(model.summary())"
      ],
      "metadata": {
        "trusted": true,
        "execution": {
          "iopub.status.busy": "2025-03-10T05:21:38.442502Z",
          "iopub.execute_input": "2025-03-10T05:21:38.442833Z",
          "iopub.status.idle": "2025-03-10T05:21:38.488563Z",
          "shell.execute_reply.started": "2025-03-10T05:21:38.442799Z",
          "shell.execute_reply": "2025-03-10T05:21:38.487862Z"
        },
        "id": "q2L2DAUFm8JI",
        "outputId": "f3e22535-f9a4-4ab9-dc22-b2d3dded7fa2"
      },
      "outputs": [
        {
          "name": "stdout",
          "text": "Model: \"model_1\"\n_________________________________________________________________\nLayer (type)                 Output Shape              Param #   \n=================================================================\ninput_2 (InputLayer)         [(None, 120, 120, 3)]     0         \n_________________________________________________________________\nconv2d_2 (Conv2D)            (None, 118, 118, 16)      448       \n_________________________________________________________________\nmax_pooling2d_2 (MaxPooling2 (None, 59, 59, 16)        0         \n_________________________________________________________________\nconv2d_3 (Conv2D)            (None, 57, 57, 32)        4640      \n_________________________________________________________________\nmax_pooling2d_3 (MaxPooling2 (None, 28, 28, 32)        0         \n_________________________________________________________________\nglobal_average_pooling2d_1 ( (None, 32)                0         \n_________________________________________________________________\ndense_1 (Dense)              (None, 1)                 33        \n=================================================================\nTotal params: 5,121\nTrainable params: 5,121\nNon-trainable params: 0\n_________________________________________________________________\nNone\n",
          "output_type": "stream"
        }
      ],
      "execution_count": null
    },
    {
      "cell_type": "code",
      "source": [
        "history = model.fit(\n",
        "    train_data,\n",
        "    validation_data=val_data,\n",
        "    epochs=100,\n",
        "    callbacks=[\n",
        "        tf.keras.callbacks.EarlyStopping(\n",
        "            monitor='val_loss',\n",
        "            patience=3,\n",
        "            restore_best_weights=True\n",
        "        )\n",
        "    ]\n",
        ")"
      ],
      "metadata": {
        "trusted": true,
        "execution": {
          "iopub.status.busy": "2025-03-10T05:21:38.490005Z",
          "iopub.execute_input": "2025-03-10T05:21:38.490343Z",
          "iopub.status.idle": "2025-03-10T05:24:58.164845Z",
          "shell.execute_reply.started": "2025-03-10T05:21:38.490308Z",
          "shell.execute_reply": "2025-03-10T05:24:58.164143Z"
        },
        "id": "APZnssmbm8JJ",
        "outputId": "6168c412-20b0-4446-bcb6-fa6c7d7ba38a"
      },
      "outputs": [
        {
          "name": "stdout",
          "text": "Epoch 1/100\n105/105 [==============================] - 8s 69ms/step - loss: 0.6912 - accuracy: 0.5369 - val_loss: 0.6439 - val_accuracy: 0.8321\nEpoch 2/100\n105/105 [==============================] - 7s 67ms/step - loss: 0.6236 - accuracy: 0.7213 - val_loss: 0.5552 - val_accuracy: 0.7560\nEpoch 3/100\n105/105 [==============================] - 7s 68ms/step - loss: 0.5347 - accuracy: 0.7908 - val_loss: 0.4572 - val_accuracy: 0.8869\nEpoch 4/100\n105/105 [==============================] - 7s 67ms/step - loss: 0.4291 - accuracy: 0.8915 - val_loss: 0.3515 - val_accuracy: 0.8952\nEpoch 5/100\n105/105 [==============================] - 7s 70ms/step - loss: 0.3524 - accuracy: 0.9099 - val_loss: 0.2772 - val_accuracy: 0.9369\nEpoch 6/100\n105/105 [==============================] - 7s 71ms/step - loss: 0.2483 - accuracy: 0.9443 - val_loss: 0.2289 - val_accuracy: 0.9452\nEpoch 7/100\n105/105 [==============================] - 7s 68ms/step - loss: 0.2010 - accuracy: 0.9478 - val_loss: 0.1996 - val_accuracy: 0.9643\nEpoch 8/100\n105/105 [==============================] - 7s 65ms/step - loss: 0.1637 - accuracy: 0.9563 - val_loss: 0.1747 - val_accuracy: 0.9583\nEpoch 9/100\n105/105 [==============================] - 7s 66ms/step - loss: 0.1325 - accuracy: 0.9619 - val_loss: 0.2179 - val_accuracy: 0.9190\nEpoch 10/100\n105/105 [==============================] - 7s 66ms/step - loss: 0.1479 - accuracy: 0.9610 - val_loss: 0.1428 - val_accuracy: 0.9702\nEpoch 11/100\n105/105 [==============================] - 7s 68ms/step - loss: 0.1652 - accuracy: 0.9527 - val_loss: 0.1420 - val_accuracy: 0.9750\nEpoch 12/100\n105/105 [==============================] - 7s 70ms/step - loss: 0.1034 - accuracy: 0.9721 - val_loss: 0.1350 - val_accuracy: 0.9643\nEpoch 13/100\n105/105 [==============================] - 7s 66ms/step - loss: 0.0932 - accuracy: 0.9742 - val_loss: 0.1239 - val_accuracy: 0.9786\nEpoch 14/100\n105/105 [==============================] - 7s 66ms/step - loss: 0.0873 - accuracy: 0.9765 - val_loss: 0.1393 - val_accuracy: 0.9583\nEpoch 15/100\n105/105 [==============================] - 7s 66ms/step - loss: 0.0830 - accuracy: 0.9756 - val_loss: 0.1252 - val_accuracy: 0.9655\nEpoch 16/100\n105/105 [==============================] - 7s 68ms/step - loss: 0.0812 - accuracy: 0.9788 - val_loss: 0.1158 - val_accuracy: 0.9786\nEpoch 17/100\n105/105 [==============================] - 7s 67ms/step - loss: 0.0730 - accuracy: 0.9796 - val_loss: 0.1250 - val_accuracy: 0.9845\nEpoch 18/100\n105/105 [==============================] - 7s 70ms/step - loss: 0.0672 - accuracy: 0.9771 - val_loss: 0.1144 - val_accuracy: 0.9833\nEpoch 19/100\n105/105 [==============================] - 7s 68ms/step - loss: 0.0664 - accuracy: 0.9805 - val_loss: 0.1087 - val_accuracy: 0.9810\nEpoch 20/100\n105/105 [==============================] - 7s 68ms/step - loss: 0.0628 - accuracy: 0.9802 - val_loss: 0.1119 - val_accuracy: 0.9833\nEpoch 21/100\n105/105 [==============================] - 7s 69ms/step - loss: 0.0634 - accuracy: 0.9802 - val_loss: 0.1134 - val_accuracy: 0.9833\nEpoch 22/100\n105/105 [==============================] - 7s 65ms/step - loss: 0.0572 - accuracy: 0.9805 - val_loss: 0.1047 - val_accuracy: 0.9833\nEpoch 23/100\n105/105 [==============================] - 7s 65ms/step - loss: 0.0631 - accuracy: 0.9824 - val_loss: 0.1103 - val_accuracy: 0.9833\nEpoch 24/100\n105/105 [==============================] - 7s 67ms/step - loss: 0.0651 - accuracy: 0.9759 - val_loss: 0.1128 - val_accuracy: 0.9833\nEpoch 25/100\n105/105 [==============================] - 7s 69ms/step - loss: 0.0608 - accuracy: 0.9820 - val_loss: 0.1039 - val_accuracy: 0.9845\nEpoch 26/100\n105/105 [==============================] - 7s 67ms/step - loss: 0.0597 - accuracy: 0.9805 - val_loss: 0.1172 - val_accuracy: 0.9869\nEpoch 27/100\n105/105 [==============================] - 7s 70ms/step - loss: 0.0442 - accuracy: 0.9846 - val_loss: 0.1277 - val_accuracy: 0.9536\nEpoch 28/100\n105/105 [==============================] - 7s 69ms/step - loss: 0.0812 - accuracy: 0.9750 - val_loss: 0.1198 - val_accuracy: 0.9845\n",
          "output_type": "stream"
        }
      ],
      "execution_count": null
    },
    {
      "cell_type": "markdown",
      "source": [
        "# **Graphs**"
      ],
      "metadata": {
        "id": "L1DOHuAarXGD"
      }
    },
    {
      "cell_type": "code",
      "source": [
        "import matplotlib.pyplot as plt\n",
        "\n",
        "# Plot Training & Validation Loss\n",
        "plt.figure(figsize=(10, 5))\n",
        "plt.plot(history.history['loss'], label='Training Loss')\n",
        "plt.plot(history.history['val_loss'], label='Validation Loss')\n",
        "plt.xlabel('Epoch')\n",
        "plt.ylabel('Loss')\n",
        "plt.legend()\n",
        "plt.title('Training & Validation Loss')\n",
        "plt.show()\n",
        "\n",
        "# Plot Training & Validation Accuracy\n",
        "plt.figure(figsize=(10, 5))\n",
        "plt.plot(history.history['accuracy'], label='Training Accuracy')\n",
        "plt.plot(history.history['val_accuracy'], label='Validation Accuracy')\n",
        "plt.xlabel('Epoch')\n",
        "plt.ylabel('Accuracy')\n",
        "plt.legend()\n",
        "plt.title('Training & Validation Accuracy')\n",
        "plt.show()"
      ],
      "metadata": {
        "trusted": true,
        "execution": {
          "iopub.status.busy": "2025-03-10T05:37:17.958972Z",
          "iopub.execute_input": "2025-03-10T05:37:17.959303Z",
          "iopub.status.idle": "2025-03-10T05:37:18.261995Z",
          "shell.execute_reply.started": "2025-03-10T05:37:17.959278Z",
          "shell.execute_reply": "2025-03-10T05:37:18.261338Z"
        },
        "id": "ulvRPL9vm8JJ",
        "outputId": "ae177a3c-b116-40df-c942-50c6860d5be7"
      },
      "outputs": [
        {
          "output_type": "display_data",
          "data": {
            "text/plain": "<Figure size 720x360 with 1 Axes>",
            "image/png": "[encoded data removed]"
          },
          "metadata": {
            "needs_background": "light"
          }
        },
        {
          "output_type": "display_data",
          "data": {
            "text/plain": "<Figure size 720x360 with 1 Axes>",
            "image/png": "[encoded data removed]"
          },
          "metadata": {
            "needs_background": "light"
          }
        }
      ],
      "execution_count": null
    },
    {
      "cell_type": "markdown",
      "source": [
        "# **Results**"
      ],
      "metadata": {
        "id": "3yqEzBKAm8JK"
      }
    },
    {
      "cell_type": "code",
      "source": [
        "from tensorflow.keras.preprocessing import image\n",
        "import numpy as np\n",
        "\n",
        "img_path = \"/kaggle/input/test-image-marble/tiles.png\"  # Use your correct image path\n",
        "img = image.load_img(img_path, target_size=(120, 120))  # Adjust target size to match your model input\n",
        "img_array = image.img_to_array(img)\n",
        "img_array = np.expand_dims(img_array, axis=0) / 255.0  # Normalize image\n",
        "\n",
        "# Predict\n",
        "prediction = model.predict(img_array)\n",
        "print(f\"Prediction Score: {prediction[0][0]}\")  # If binary classification\n",
        "\n",
        "# If your model predicts binary (0/1)\n",
        "class_label = \"Cracked\" if prediction[0][0] > 0.5 else \"Not Cracked\"\n",
        "print(f\"Predicted Class: {class_label}\")"
      ],
      "metadata": {
        "trusted": true,
        "execution": {
          "iopub.status.busy": "2025-03-10T05:39:11.611679Z",
          "iopub.execute_input": "2025-03-10T05:39:11.612096Z",
          "iopub.status.idle": "2025-03-10T05:39:11.729028Z",
          "shell.execute_reply.started": "2025-03-10T05:39:11.612046Z",
          "shell.execute_reply": "2025-03-10T05:39:11.728346Z"
        },
        "id": "mHxv3vFym8JJ",
        "outputId": "c1f822e0-4f2e-48d5-816d-4ec42bffb004"
      },
      "outputs": [
        {
          "name": "stdout",
          "text": "Prediction Score: 0.9999986886978149\nPredicted Class: Cracked\n",
          "output_type": "stream"
        }
      ],
      "execution_count": null
    }
  ]
}